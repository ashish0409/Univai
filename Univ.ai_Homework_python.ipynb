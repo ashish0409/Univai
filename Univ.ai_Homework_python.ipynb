{
 "cells": [
  {
   "cell_type": "code",
   "execution_count": 1,
   "id": "b996d1b5",
   "metadata": {},
   "outputs": [],
   "source": [
    "import string\n",
    "import re"
   ]
  },
  {
   "cell_type": "code",
   "execution_count": 2,
   "id": "13ae7883",
   "metadata": {},
   "outputs": [],
   "source": [
    "file = open('data\\JuliusCaesar.txt','r',encoding='utf8')\n",
    "JuliusCaesar = file.read()\n",
    "file.close()"
   ]
  },
  {
   "cell_type": "code",
   "execution_count": 3,
   "id": "3a011579",
   "metadata": {},
   "outputs": [],
   "source": [
    "JuliusCaesar = JuliusCaesar.encode('ascii','ignore')"
   ]
  },
  {
   "cell_type": "code",
   "execution_count": 4,
   "id": "e8443616",
   "metadata": {},
   "outputs": [],
   "source": [
    "JuliusCaesar = JuliusCaesar.decode()"
   ]
  },
  {
   "cell_type": "code",
   "execution_count": 5,
   "id": "9c8349c0",
   "metadata": {},
   "outputs": [],
   "source": [
    "JuliusCaesar = JuliusCaesar.replace('\\n',' ')"
   ]
  },
  {
   "cell_type": "code",
   "execution_count": 6,
   "id": "8955d54c",
   "metadata": {},
   "outputs": [],
   "source": [
    "JuliusCaesar = re.sub(' +',' ',JuliusCaesar)"
   ]
  },
  {
   "cell_type": "code",
   "execution_count": 7,
   "id": "f52912ff",
   "metadata": {},
   "outputs": [],
   "source": [
    "JuliusCaesar = JuliusCaesar.lower()"
   ]
  },
  {
   "cell_type": "code",
   "execution_count": 8,
   "id": "29c8feba",
   "metadata": {},
   "outputs": [],
   "source": [
    "table=str.maketrans('','',string.punctuation)\n",
    "JuliusCaesar = [w.translate(table) for w in JuliusCaesar.split()]"
   ]
  },
  {
   "cell_type": "code",
   "execution_count": 9,
   "id": "07cd16aa",
   "metadata": {},
   "outputs": [],
   "source": [
    "import pickle\n",
    "fd = open('data\\stopwords.pkl','rb')\n",
    "stop_words = pickle.load(fd)\n",
    "fd.close()"
   ]
  },
  {
   "cell_type": "code",
   "execution_count": 10,
   "id": "de1e5afc",
   "metadata": {},
   "outputs": [
    {
     "data": {
      "text/plain": [
       "['i', 'me', 'my', 'myself', 'we', 'our', 'ours', 'ourselves', 'you', \"you're\"]"
      ]
     },
     "execution_count": 10,
     "metadata": {},
     "output_type": "execute_result"
    }
   ],
   "source": [
    "stop_words[:10]"
   ]
  },
  {
   "cell_type": "code",
   "execution_count": 11,
   "id": "0f124d0e",
   "metadata": {},
   "outputs": [],
   "source": [
    "for word in list(JuliusCaesar):\n",
    "    if word in stop_words:\n",
    "        JuliusCaesar.remove(word)"
   ]
  },
  {
   "cell_type": "code",
   "execution_count": 12,
   "id": "08bc88f1",
   "metadata": {},
   "outputs": [],
   "source": [
    "worddict = dict()"
   ]
  },
  {
   "cell_type": "code",
   "execution_count": 13,
   "id": "137cae92",
   "metadata": {},
   "outputs": [
    {
     "data": {
      "text/plain": [
       "{}"
      ]
     },
     "execution_count": 13,
     "metadata": {},
     "output_type": "execute_result"
    }
   ],
   "source": [
    "worddict"
   ]
  },
  {
   "cell_type": "code",
   "execution_count": 14,
   "id": "2a32ea74",
   "metadata": {},
   "outputs": [],
   "source": [
    "from collections import Counter\n",
    "worddict = Counter(JuliusCaesar)\n"
   ]
  },
  {
   "cell_type": "code",
   "execution_count": 15,
   "id": "8bdbe940",
   "metadata": {},
   "outputs": [],
   "source": [
    "worddict = dict(worddict)"
   ]
  },
  {
   "cell_type": "code",
   "execution_count": 16,
   "id": "11e89382",
   "metadata": {},
   "outputs": [
    {
     "name": "stdout",
     "output_type": "stream",
     "text": [
      "brutus 371\n",
      "caesar 237\n",
      "cassius 229\n",
      "antony 127\n",
      "shall 125\n",
      "thou 116\n",
      "casca 74\n",
      "come 74\n",
      "good 69\n",
      "citizen 69\n",
      "know 68\n",
      "men 65\n",
      "well 65\n",
      "let 63\n",
      "us 63\n",
      "lucius 59\n",
      "enter 57\n",
      "man 56\n",
      "thy 54\n",
      "thee 54\n"
     ]
    }
   ],
   "source": [
    "topwords = sorted(worddict, key = worddict.get, reverse=True)\n",
    "top20 = topwords[:20]\n",
    "for word in top20:\n",
    "    print(word, worddict[word])"
   ]
  },
  {
   "cell_type": "code",
   "execution_count": 17,
   "id": "929c5202",
   "metadata": {},
   "outputs": [],
   "source": [
    "top = dict()"
   ]
  },
  {
   "cell_type": "code",
   "execution_count": 18,
   "id": "af27ee83",
   "metadata": {},
   "outputs": [],
   "source": [
    "for i in top20:\n",
    "    top[i]=worddict[i]"
   ]
  },
  {
   "cell_type": "code",
   "execution_count": 19,
   "id": "3f5911c8",
   "metadata": {},
   "outputs": [
    {
     "data": {
      "text/plain": [
       "{'brutus': 371,\n",
       " 'caesar': 237,\n",
       " 'cassius': 229,\n",
       " 'antony': 127,\n",
       " 'shall': 125,\n",
       " 'thou': 116,\n",
       " 'casca': 74,\n",
       " 'come': 74,\n",
       " 'good': 69,\n",
       " 'citizen': 69,\n",
       " 'know': 68,\n",
       " 'men': 65,\n",
       " 'well': 65,\n",
       " 'let': 63,\n",
       " 'us': 63,\n",
       " 'lucius': 59,\n",
       " 'enter': 57,\n",
       " 'man': 56,\n",
       " 'thy': 54,\n",
       " 'thee': 54}"
      ]
     },
     "execution_count": 19,
     "metadata": {},
     "output_type": "execute_result"
    }
   ],
   "source": [
    "top"
   ]
  },
  {
   "cell_type": "code",
   "execution_count": 20,
   "id": "79f0dae9",
   "metadata": {},
   "outputs": [
    {
     "data": {
      "image/png": "[encoded data removed]",
      "text/plain": [
       "<Figure size 648x504 with 1 Axes>"
      ]
     },
     "metadata": {
      "needs_background": "light"
     },
     "output_type": "display_data"
    }
   ],
   "source": [
    "import numpy as np\n",
    "import matplotlib.pyplot as plt\n",
    "\n",
    "# ask matplotlib to plot in notebooks\n",
    "%matplotlib inline\n",
    "fig, ax = plt.subplots(figsize=(9, 7))\n",
    "pos = range(len(top20))\n",
    "ax.barh(pos, [worddict[word] for word in top20],\n",
    "                     align='center',\n",
    "                     tick_label=top20)\n",
    "ax.set_title('Most frequent words in THE TRAGEDY OF JULIUS CAESAR')\n",
    "plt.savefig('HW_1.jpg')"
   ]
  },
  {
   "cell_type": "code",
   "execution_count": 21,
   "id": "448b3062",
   "metadata": {},
   "outputs": [],
   "source": [
    "import pandas as pd\n",
    "import seaborn as sns\n",
    "import numpy as np"
   ]
  },
  {
   "cell_type": "code",
   "execution_count": 22,
   "id": "8d400890",
   "metadata": {},
   "outputs": [],
   "source": [
    "df = pd.DataFrame(list(top.items()),columns=('word','count'))"
   ]
  },
  {
   "cell_type": "code",
   "execution_count": 23,
   "id": "b997f4cd",
   "metadata": {},
   "outputs": [],
   "source": [
    "df.set_index('word',inplace=True)"
   ]
  },
  {
   "cell_type": "code",
   "execution_count": 24,
   "id": "ff143a6c",
   "metadata": {},
   "outputs": [
    {
     "data": {
      "text/html": [
       "<div>\n",
       "<style scoped>\n",
       "    .dataframe tbody tr th:only-of-type {\n",
       "        vertical-align: middle;\n",
       "    }\n",
       "\n",
       "    .dataframe tbody tr th {\n",
       "        vertical-align: top;\n",
       "    }\n",
       "\n",
       "    .dataframe thead th {\n",
       "        text-align: right;\n",
       "    }\n",
       "</style>\n",
       "<table border=\"1\" class=\"dataframe\">\n",
       "  <thead>\n",
       "    <tr style=\"text-align: right;\">\n",
       "      <th></th>\n",
       "      <th>count</th>\n",
       "    </tr>\n",
       "    <tr>\n",
       "      <th>word</th>\n",
       "      <th></th>\n",
       "    </tr>\n",
       "  </thead>\n",
       "  <tbody>\n",
       "    <tr>\n",
       "      <th>brutus</th>\n",
       "      <td>371</td>\n",
       "    </tr>\n",
       "    <tr>\n",
       "      <th>caesar</th>\n",
       "      <td>237</td>\n",
       "    </tr>\n",
       "    <tr>\n",
       "      <th>cassius</th>\n",
       "      <td>229</td>\n",
       "    </tr>\n",
       "    <tr>\n",
       "      <th>antony</th>\n",
       "      <td>127</td>\n",
       "    </tr>\n",
       "    <tr>\n",
       "      <th>shall</th>\n",
       "      <td>125</td>\n",
       "    </tr>\n",
       "    <tr>\n",
       "      <th>thou</th>\n",
       "      <td>116</td>\n",
       "    </tr>\n",
       "    <tr>\n",
       "      <th>casca</th>\n",
       "      <td>74</td>\n",
       "    </tr>\n",
       "    <tr>\n",
       "      <th>come</th>\n",
       "      <td>74</td>\n",
       "    </tr>\n",
       "    <tr>\n",
       "      <th>good</th>\n",
       "      <td>69</td>\n",
       "    </tr>\n",
       "    <tr>\n",
       "      <th>citizen</th>\n",
       "      <td>69</td>\n",
       "    </tr>\n",
       "    <tr>\n",
       "      <th>know</th>\n",
       "      <td>68</td>\n",
       "    </tr>\n",
       "    <tr>\n",
       "      <th>men</th>\n",
       "      <td>65</td>\n",
       "    </tr>\n",
       "    <tr>\n",
       "      <th>well</th>\n",
       "      <td>65</td>\n",
       "    </tr>\n",
       "    <tr>\n",
       "      <th>let</th>\n",
       "      <td>63</td>\n",
       "    </tr>\n",
       "    <tr>\n",
       "      <th>us</th>\n",
       "      <td>63</td>\n",
       "    </tr>\n",
       "    <tr>\n",
       "      <th>lucius</th>\n",
       "      <td>59</td>\n",
       "    </tr>\n",
       "    <tr>\n",
       "      <th>enter</th>\n",
       "      <td>57</td>\n",
       "    </tr>\n",
       "    <tr>\n",
       "      <th>man</th>\n",
       "      <td>56</td>\n",
       "    </tr>\n",
       "    <tr>\n",
       "      <th>thy</th>\n",
       "      <td>54</td>\n",
       "    </tr>\n",
       "    <tr>\n",
       "      <th>thee</th>\n",
       "      <td>54</td>\n",
       "    </tr>\n",
       "  </tbody>\n",
       "</table>\n",
       "</div>"
      ],
      "text/plain": [
       "         count\n",
       "word          \n",
       "brutus     371\n",
       "caesar     237\n",
       "cassius    229\n",
       "antony     127\n",
       "shall      125\n",
       "thou       116\n",
       "casca       74\n",
       "come        74\n",
       "good        69\n",
       "citizen     69\n",
       "know        68\n",
       "men         65\n",
       "well        65\n",
       "let         63\n",
       "us          63\n",
       "lucius      59\n",
       "enter       57\n",
       "man         56\n",
       "thy         54\n",
       "thee        54"
      ]
     },
     "execution_count": 24,
     "metadata": {},
     "output_type": "execute_result"
    }
   ],
   "source": [
    "df"
   ]
  },
  {
   "cell_type": "code",
   "execution_count": 25,
   "id": "8b646161",
   "metadata": {},
   "outputs": [
    {
     "data": {
      "image/png": "[encoded data removed]",
      "text/plain": [
       "<Figure size 576x432 with 1 Axes>"
      ]
     },
     "metadata": {
      "needs_background": "light"
     },
     "output_type": "display_data"
    }
   ],
   "source": [
    "plt.figure(figsize=(8,6))\n",
    "\n",
    "ax = sns.barplot(data=df.transpose(),orient='h',palette='magma')\n",
    "for p in ax.patches:\n",
    "    width = p.get_width()\n",
    "    plt.text(0+width,p.get_y()+0.5*p.get_height(),\n",
    "             '{:1.0f}'.format(width),ha='left',va='center')\n",
    "ax.set_ylabel('Word',fontdict={'size':13})\n",
    "ax.set_xlabel('Count',fontdict={'size':13})\n",
    "ax.set_title('Most frequent words in THE TRAGEDY OF JULIUS CAESAR',fontdict={'size':13})\n",
    "plt.savefig('HW_2.jpg')"
   ]
  },
  {
   "cell_type": "code",
   "execution_count": null,
   "id": "36df42dd",
   "metadata": {},
   "outputs": [],
   "source": []
  }
 ],
 "metadata": {
  "kernelspec": {
   "display_name": "Python 3 (ipykernel)",
   "language": "python",
   "name": "python3"
  },
  "language_info": {
   "codemirror_mode": {
    "name": "ipython",
    "version": 3
   },
   "file_extension": ".py",
   "mimetype": "text/x-python",
   "name": "python",
   "nbconvert_exporter": "python",
   "pygments_lexer": "ipython3",
   "version": "3.9.6"
  }
 },
 "nbformat": 4,
 "nbformat_minor": 5
}
